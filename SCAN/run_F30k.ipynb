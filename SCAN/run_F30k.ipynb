{
  "cells": [
    {
      "cell_type": "code",
      "execution_count": null,
      "metadata": {
        "colab": {
          "base_uri": "https://localhost:8080/"
        },
        "id": "990CBah-zjjL",
        "outputId": "8adec68e-897a-4174-e135-68b0c288cc14"
      },
      "outputs": [],
      "source": [
        "from google.colab import drive\n",
        "drive.mount('/content/drive')"
      ]
    },
    {
      "cell_type": "code",
      "execution_count": null,
      "metadata": {
        "colab": {
          "base_uri": "https://localhost:8080/"
        },
        "id": "Bh71SAXLzrlH",
        "outputId": "cbdd53eb-8920-40bb-b450-1ffcf55a9080"
      },
      "outputs": [],
      "source": [
        "import nltk\n",
        "nltk.download('punkt')"
      ]
    },
    {
      "cell_type": "code",
      "execution_count": null,
      "metadata": {
        "colab": {
          "base_uri": "https://localhost:8080/"
        },
        "id": "AHyzpbAKko6W",
        "outputId": "d3553de6-c2e5-4077-dffb-d6759b72f0b7"
      },
      "outputs": [],
      "source": [
        "! pip install tensorboard_logger"
      ]
    },
    {
      "cell_type": "code",
      "execution_count": null,
      "metadata": {
        "id": "MnUsPG0md03f"
      },
      "outputs": [],
      "source": [
        "!cp -r /content/drive/MyDrive/SCAN_DATA/SCAN/data/f30k_precomp  /content/data/"
      ]
    },
    {
      "cell_type": "code",
      "execution_count": null,
      "metadata": {
        "colab": {
          "base_uri": "https://localhost:8080/"
        },
        "id": "v5n5lio8jlzo",
        "outputId": "a8cbc1a8-59bb-40f4-f89f-c44b03526ac9"
      },
      "outputs": [],
      "source": [
        "cd /content/drive/MyDrive/SCAN_DATA/SCAN"
      ]
    },
    {
      "cell_type": "markdown",
      "metadata": {
        "id": "1t7SC2zfnLt5"
      },
      "source": [
        "# SCAN F30k  t-i AVG \n",
        "--lambda_softmax=9"
      ]
    },
    {
      "cell_type": "markdown",
      "metadata": {
        "id": "jvqBPlY0ZzlN"
      },
      "source": [
        "## Dot "
      ]
    },
    {
      "cell_type": "code",
      "execution_count": null,
      "metadata": {
        "colab": {
          "base_uri": "https://localhost:8080/"
        },
        "id": "fFjbe-_9aFb0",
        "outputId": "32880710-e49e-4880-a6c1-5dc46726d286"
      },
      "outputs": [],
      "source": [
        "! python train.py --data_path \"/content/drive/MyDrive/SCAN_DATA/SCAN/data\" --data_name f30k_precomp --vocab_path \"/content/drive/MyDrive/SCAN_DATA/SCAN/vocab\" --logger_name runs/f30k_scan/log --model_name runs/f30k_scan/log --max_violation --bi_gru --agg_func=Mean --cross_attn=t2i --lambda_softmax=9"
      ]
    },
    {
      "cell_type": "code",
      "execution_count": null,
      "metadata": {
        "colab": {
          "base_uri": "https://localhost:8080/"
        },
        "id": "2k0RYWPJQv5y",
        "outputId": "bc341f94-47cf-47d3-bd81-2c162c989645"
      },
      "outputs": [],
      "source": [
        "from vocab import Vocabulary\n",
        "import evaluation\n",
        "evaluation.evalrank(\"/content/drive/MyDrive/SCAN_DATA/SCAN/runs/f30k_scan/log/model_t-i_AVG/model_best.pth.tar\", data_path=\"/content/drive/MyDrive/SCAN_DATA/SCAN/data\", split=\"test\")"
      ]
    },
    {
      "cell_type": "markdown",
      "metadata": {
        "id": "42yBCsYanQkG"
      },
      "source": [
        "# Attention test"
      ]
    },
    {
      "cell_type": "markdown",
      "metadata": {
        "id": "2SK2bhwbqD9w"
      },
      "source": [
        "### Biased general qwk "
      ]
    },
    {
      "cell_type": "code",
      "execution_count": null,
      "metadata": {
        "colab": {
          "base_uri": "https://localhost:8080/"
        },
        "id": "ELl_PhVyqGlj",
        "outputId": "b016b032-8b29-4fb8-ca89-d33f6cc05aa3"
      },
      "outputs": [],
      "source": [
        "! python train.py --data_path \"/content/drive/MyDrive/SCAN_DATA/SCAN/data\" --data_name f30k_precomp --vocab_path \"/content/drive/MyDrive/SCAN_DATA/SCAN/vocab\" --logger_name runs/f30k_scan/log/F30k_t-i_biased_general_qwk --model_name runs/f30k_scan/log --max_violation --bi_gru --agg_func=Mean --cross_attn=t2i --lambda_softmax=9 --attention_method='biased_general_qwk'"
      ]
    },
    {
      "cell_type": "code",
      "execution_count": null,
      "metadata": {
        "colab": {
          "base_uri": "https://localhost:8080/"
        },
        "id": "tyOgFAMaexo-",
        "outputId": "940922b8-7741-4789-b3ee-e1fed5a0d1e6"
      },
      "outputs": [],
      "source": [
        "from vocab import Vocabulary\n",
        "import evaluation\n",
        "evaluation.evalrank(\"/content/drive/MyDrive/SCAN_DATA/SCAN/runs/f30k_scan/log/model_best.pth.tar\", data_path=\"/content/drive/MyDrive/SCAN_DATA/SCAN/data\", split=\"test\")"
      ]
    },
    {
      "cell_type": "markdown",
      "metadata": {
        "id": "M5Ta7ossiPAV"
      },
      "source": [
        "### Biased general kwq"
      ]
    },
    {
      "cell_type": "code",
      "execution_count": null,
      "metadata": {
        "colab": {
          "base_uri": "https://localhost:8080/"
        },
        "id": "W1Lc-n1HiRUa",
        "outputId": "62bfd081-81dc-417d-c77b-5d15b6f34135"
      },
      "outputs": [],
      "source": [
        "\n",
        "! python train.py --data_path \"/content/drive/MyDrive/SCAN_DATA/SCAN/data\" --data_name f30k_precomp --vocab_path \"/content/drive/MyDrive/SCAN_DATA/SCAN/vocab\" --logger_name runs/f30k_scan/log/F30k_t-i_biased_general_kwq --model_name runs/f30k_scan/log/F30k_t-i_biased_general_kwq --max_violation --bi_gru --agg_func=Mean --cross_attn=t2i --lambda_softmax=9 --attention_method='biased_general_kwq'"
      ]
    },
    {
      "cell_type": "code",
      "execution_count": null,
      "metadata": {
        "colab": {
          "base_uri": "https://localhost:8080/"
        },
        "id": "RlnJUq0GiOIm",
        "outputId": "beee1554-da22-4ad3-d614-9504c98ac677"
      },
      "outputs": [],
      "source": [
        "from vocab import Vocabulary\n",
        "import evaluation\n",
        "evaluation.evalrank(\"/content/drive/MyDrive/SCAN_DATA/SCAN/runs/f30k_scan/log/F30k_t-i_biased_general_kwq/model_best.pth.tar\", data_path=\"/content/drive/MyDrive/SCAN_DATA/SCAN/data\", split=\"test\")"
      ]
    },
    {
      "cell_type": "markdown",
      "metadata": {
        "id": "Ut7SVHFBNDRw"
      },
      "source": [
        "### Scaled dot\n"
      ]
    },
    {
      "cell_type": "code",
      "execution_count": null,
      "metadata": {
        "colab": {
          "base_uri": "https://localhost:8080/"
        },
        "id": "c-7otseTNDRw",
        "outputId": "b879525e-6b35-45e8-b637-2d060ccc8840"
      },
      "outputs": [],
      "source": [
        "! python train.py --data_path \"/content/drive/MyDrive/SCAN_DATA/SCAN/data\" --data_name f30k_precomp --vocab_path \"/content/drive/MyDrive/SCAN_DATA/SCAN/vocab\" --logger_name runs/f30k_scan/log/scaled_dot --model_name runs/f30k_scan/log/scaled_dot --max_violation --bi_gru --agg_func=Mean --cross_attn=t2i --lambda_softmax=9 --attention_method='scaled_dot' --batch_size=128"
      ]
    },
    {
      "cell_type": "code",
      "execution_count": null,
      "metadata": {
        "colab": {
          "base_uri": "https://localhost:8080/"
        },
        "id": "JUMV9rrvNDRx",
        "outputId": "41e44c3e-0816-4d05-c3ec-5222242bce01"
      },
      "outputs": [],
      "source": [
        "from vocab import Vocabulary\n",
        "import evaluation\n",
        "evaluation.evalrank(\"/content/drive/MyDrive/SCAN_DATA/SCAN/runs/f30k_scan/log/scaled_dot/model_best.pth.tar\", data_path=\"/content/drive/MyDrive/SCAN_DATA/SCAN/data\", split=\"test\")"
      ]
    },
    {
      "cell_type": "markdown",
      "metadata": {
        "id": "egKMO5PNqD1Q"
      },
      "source": [
        "### general qwk"
      ]
    },
    {
      "cell_type": "code",
      "execution_count": null,
      "metadata": {
        "colab": {
          "base_uri": "https://localhost:8080/"
        },
        "id": "C6NO5PJ92VNh",
        "outputId": "dfd41574-11b7-42ef-a450-b447797dd185"
      },
      "outputs": [],
      "source": [
        "! python train.py --data_path \"/content\" --data_name f30k_precomp --vocab_path \"/content/drive/MyDrive/SCAN_DATA/SCAN/vocab\" --logger_name runs/f30k_scan/log --model_name runs/f30k_scan/log --max_violation --bi_gru --agg_func=Mean --cross_attn=t2i --lambda_softmax=9 --attention_method='general_qwk' --batch_size=128"
      ]
    },
    {
      "cell_type": "code",
      "execution_count": null,
      "metadata": {
        "colab": {
          "base_uri": "https://localhost:8080/"
        },
        "id": "oGy69XX_6F76",
        "outputId": "ce218ae2-c211-42b9-8eb4-42bc0e683e31"
      },
      "outputs": [],
      "source": [
        "from vocab import Vocabulary\n",
        "import evaluation\n",
        "evaluation.evalrank(\"/content/drive/MyDrive/SCAN_DATA/SCAN/runs/f30k_scan/log/model_best.pth.tar\", data_path=\"/content\", split=\"test\")"
      ]
    },
    {
      "cell_type": "markdown",
      "metadata": {
        "id": "MNgmHgHbCPPZ"
      },
      "source": [
        "### general kwq"
      ]
    },
    {
      "cell_type": "code",
      "execution_count": null,
      "metadata": {
        "colab": {
          "base_uri": "https://localhost:8080/"
        },
        "id": "1N2N6A4XTK9C",
        "outputId": "df379fea-a366-4a5a-fcd2-b323abe00a67"
      },
      "outputs": [],
      "source": [
        "! python train.py --data_path \"/content\" --data_name f30k_precomp --vocab_path \"/content/drive/MyDrive/SCAN_DATA/SCAN/vocab\" --logger_name runs/f30k_scan/log --model_name runs/f30k_scan/log --max_violation --bi_gru --agg_func=Mean --cross_attn=t2i --lambda_softmax=9 --attention_method='general_kwq' --batch_size=128"
      ]
    },
    {
      "cell_type": "code",
      "execution_count": null,
      "metadata": {
        "colab": {
          "base_uri": "https://localhost:8080/"
        },
        "id": "cK4A4xCVTK0d",
        "outputId": "40a07bb4-b62d-43da-8447-176cda989611"
      },
      "outputs": [],
      "source": [
        "from vocab import Vocabulary\n",
        "import evaluation\n",
        "evaluation.evalrank(\"/content/drive/MyDrive/SCAN_DATA/SCAN/runs/f30k_scan/log/model_best.pth.tar\", data_path=\"/content/drive/MyDrive/SCAN_DATA/SCAN/data\", split=\"test\")"
      ]
    },
    {
      "cell_type": "markdown",
      "metadata": {
        "id": "ACZah4Rp5bo1"
      },
      "source": [
        "### Activated general (Relu)"
      ]
    },
    {
      "cell_type": "code",
      "execution_count": null,
      "metadata": {
        "colab": {
          "base_uri": "https://localhost:8080/"
        },
        "id": "B3iM6x6SG0hW",
        "outputId": "8ddb82c1-a158-4c5b-bda9-46ef7b237328"
      },
      "outputs": [],
      "source": [
        "# relu\n",
        "! python train.py --data_path \"/content\" --data_name f30k_precomp --vocab_path \"/content/drive/MyDrive/SCAN_DATA/SCAN/vocab\" --logger_name runs/f30k_scan/log --model_name runs/f30k_scan/log --max_violation --bi_gru --agg_func=Mean --cross_attn=t2i --lambda_softmax=9 --attention_method='activated_general_relu' --batch_size=128"
      ]
    },
    {
      "cell_type": "code",
      "execution_count": null,
      "metadata": {
        "colab": {
          "base_uri": "https://localhost:8080/"
        },
        "id": "KE7rTHN4G0YU",
        "outputId": "539bbb88-94c7-4b3f-b331-322800da563a"
      },
      "outputs": [],
      "source": [
        "from vocab import Vocabulary\n",
        "import evaluation\n",
        "evaluation.evalrank(\"/content/drive/MyDrive/SCAN_DATA/SCAN/runs/f30k_scan/log/model_best.pth.tar\", data_path=\"/content/drive/MyDrive/SCAN_DATA/SCAN/data\", split=\"test\")"
      ]
    },
    {
      "cell_type": "markdown",
      "metadata": {
        "id": "10dqQAU-DAHf"
      },
      "source": [
        "### Cosine similarity"
      ]
    },
    {
      "cell_type": "code",
      "execution_count": null,
      "metadata": {
        "colab": {
          "base_uri": "https://localhost:8080/"
        },
        "id": "Q-O2bA54C_1D",
        "outputId": "1ef06641-8cf2-425c-9a90-ef00ca4b32fd"
      },
      "outputs": [],
      "source": [
        "! python train.py --data_path \"/content/drive/MyDrive/SCAN_DATA/SCAN/data\" --data_name f30k_precomp --vocab_path \"/content/drive/MyDrive/SCAN_DATA/SCAN/vocab\" --logger_name runs/f30k_scan/log/cosine --model_name runs/f30k_scan/log/cosine --max_violation --bi_gru --agg_func=Mean --cross_attn=t2i --lambda_softmax=9 --attention_method='cosine' --batch_size=128"
      ]
    },
    {
      "cell_type": "code",
      "execution_count": null,
      "metadata": {
        "colab": {
          "base_uri": "https://localhost:8080/"
        },
        "id": "-ZbeCnhzCuv-",
        "outputId": "baad5368-e110-49d5-8644-7f9623cecce1"
      },
      "outputs": [],
      "source": [
        "from vocab import Vocabulary\n",
        "import evaluation\n",
        "evaluation.evalrank(\"/content/drive/MyDrive/SCAN_DATA/SCAN/runs/f30k_scan/log/cosine/model_best.pth.tar\", data_path=\"/content/drive/MyDrive/SCAN_DATA/SCAN/data\", split=\"test\")"
      ]
    }
  ],
  "metadata": {
    "accelerator": "GPU",
    "colab": {
      "collapsed_sections": [],
      "machine_shape": "hm",
      "name": "SCAN_run_F30k.ipynb",
      "provenance": [],
      "toc_visible": true
    },
    "kernelspec": {
      "display_name": "Python 3",
      "name": "python3"
    }
  },
  "nbformat": 4,
  "nbformat_minor": 0
}
