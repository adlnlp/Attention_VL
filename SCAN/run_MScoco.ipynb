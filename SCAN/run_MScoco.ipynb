{
  "cells": [
    {
      "cell_type": "code",
      "execution_count": null,
      "metadata": {
        "colab": {
          "base_uri": "https://localhost:8080/"
        },
        "id": "-NH5yKQA_0PK",
        "outputId": "4a2806c2-1be4-4dd8-e57c-9fb90560c6ef"
      },
      "outputs": [],
      "source": [
        "from google.colab import drive\n",
        "drive.mount('/content/drive')"
      ]
    },
    {
      "cell_type": "code",
      "execution_count": null,
      "metadata": {
        "id": "wYk9fGtPIUZq"
      },
      "outputs": [],
      "source": [
        "import numpy as np"
      ]
    },
    {
      "cell_type": "code",
      "execution_count": null,
      "metadata": {
        "id": "qnQNzluIIXqA"
      },
      "outputs": [],
      "source": [
        "!cp -r /content/drive/MyDrive/SCAN_DATA/SCAN/data/coco_precomp  /content/data/"
      ]
    },
    {
      "cell_type": "code",
      "execution_count": null,
      "metadata": {
        "colab": {
          "base_uri": "https://localhost:8080/"
        },
        "id": "z8yyGW_XAF2v",
        "outputId": "4a70177a-42dd-4dcc-b115-e329950424d4"
      },
      "outputs": [],
      "source": [
        "import nltk\n",
        "nltk.download('punkt')"
      ]
    },
    {
      "cell_type": "markdown",
      "metadata": {
        "id": "WqPDxocT7wkR"
      },
      "source": [
        "# SCAN"
      ]
    },
    {
      "cell_type": "markdown",
      "metadata": {
        "id": "0520KaK9XFaY"
      },
      "source": [
        "## Dot (original)\n",
        "t-i AVG "
      ]
    },
    {
      "cell_type": "code",
      "execution_count": null,
      "metadata": {
        "colab": {
          "base_uri": "https://localhost:8080/"
        },
        "id": "j5ukC7yuWRqB",
        "outputId": "45e83048-dbf3-46a7-fe58-7bad2bf660d6"
      },
      "outputs": [],
      "source": [
        "! python train.py --data_path \"/content/drive/MyDrive/SCAN_DATA/SCAN/data\" --data_name coco_precomp --vocab_path \"/content/drive/MyDrive/SCAN_DATA/SCAN/vocab\" --logger_name runs/coco_scan/log/model_dot --model_name runs/coco_scan/log/model_dot --max_violation --bi_gru --max_violation --bi_gru --agg_func=Mean --cross_attn=t2i --lambda_softmax=9 --num_epochs=30 --lr_update=10 --learning_rate=.0005\n"
      ]
    },
    {
      "cell_type": "code",
      "execution_count": null,
      "metadata": {
        "colab": {
          "base_uri": "https://localhost:8080/"
        },
        "id": "50MyT33_PUv4",
        "outputId": "b29ddc87-9811-4968-c665-abeb8dc618e0"
      },
      "outputs": [],
      "source": [
        "from vocab import Vocabulary\n",
        "import evaluation\n",
        "evaluation.evalrank(\"/content/drive/MyDrive/SCAN_DATA/SCAN/runs/coco_scan/log/model_dot/model_best.pth.tar\", data_path=\"/content/drive/MyDrive/SCAN_DATA/SCAN/data\", split=\"test\")"
      ]
    },
    {
      "cell_type": "markdown",
      "metadata": {
        "id": "Xu_4UE_dDUs8"
      },
      "source": [
        "## general_kwq"
      ]
    },
    {
      "cell_type": "code",
      "execution_count": null,
      "metadata": {
        "colab": {
          "base_uri": "https://localhost:8080/"
        },
        "id": "VEEk6fdLXE6C",
        "outputId": "02959932-dc5a-4fa7-91c4-7fc997e31f6a"
      },
      "outputs": [],
      "source": [
        "! python train.py --data_path \"/content/drive/MyDrive/SCAN_DATA/SCAN/data\" --data_name coco_precomp --vocab_path \"/content/drive/MyDrive/SCAN_DATA/SCAN/vocab\" --logger_name runs/coco_scan/log/model_general_kwq --model_name runs/coco_scan/log/model_general_kwq --max_violation --bi_gru --max_violation --bi_gru --agg_func=Mean --cross_attn=t2i --lambda_softmax=9 --num_epochs=30 --lr_update=10 --learning_rate=.0005 --attention_method='general_kwq'"
      ]
    },
    {
      "cell_type": "code",
      "execution_count": null,
      "metadata": {
        "colab": {
          "base_uri": "https://localhost:8080/"
        },
        "id": "1oYKyGznIwjf",
        "outputId": "a2ead057-3bb0-4475-a88f-f84416cb2b18"
      },
      "outputs": [],
      "source": [
        "from vocab import Vocabulary\n",
        "import evaluation\n",
        "evaluation.evalrank(\"/content/drive/MyDrive/SCAN_DATA/SCAN/runs/coco_scan/log/model_general_kwq/model_best.pth.tar\", data_path=\"/content/drive/MyDrive/SCAN_DATA/SCAN/data\", split=\"test\")"
      ]
    },
    {
      "cell_type": "markdown",
      "metadata": {
        "id": "zxtOZ7jJsvn2"
      },
      "source": [
        "## general qwk"
      ]
    },
    {
      "cell_type": "code",
      "execution_count": null,
      "metadata": {
        "colab": {
          "base_uri": "https://localhost:8080/"
        },
        "id": "y0IyoFM3svoC",
        "outputId": "e9651bc5-d23d-43b2-85db-9be46182a22e"
      },
      "outputs": [],
      "source": [
        "! python train.py --data_path \"/content/drive/MyDrive/SCAN_DATA/SCAN/data\" --data_name coco_precomp --vocab_path \"/content/drive/MyDrive/SCAN_DATA/SCAN/vocab\" --logger_name runs/coco_scan/log/model_general_2 --model_name runs/coco_scan/log/model_general_2 --max_violation --bi_gru --max_violation --bi_gru --agg_func=Mean --cross_attn=t2i --lambda_softmax=9 --num_epochs=30 --lr_update=10 --learning_rate=.0005 --attention_method='general_qwk'\n"
      ]
    },
    {
      "cell_type": "code",
      "execution_count": null,
      "metadata": {
        "colab": {
          "base_uri": "https://localhost:8080/"
        },
        "id": "KZCk5UwYsvoB",
        "outputId": "efa965ea-2c40-4497-ae27-1cb689a43a85"
      },
      "outputs": [],
      "source": [
        "from vocab import Vocabulary\n",
        "import evaluation\n",
        "evaluation.evalrank(\"/content/drive/MyDrive/SCAN_DATA/SCAN/runs/coco_scan/log/model_general_2/model_best.pth.tar\", data_path=\"/content/drive/MyDrive/SCAN_DATA/SCAN/data\", split=\"test\")"
      ]
    },
    {
      "cell_type": "markdown",
      "metadata": {
        "id": "67VOAurs0Ijd"
      },
      "source": [
        "## Cosine"
      ]
    },
    {
      "cell_type": "code",
      "execution_count": null,
      "metadata": {
        "colab": {
          "base_uri": "https://localhost:8080/"
        },
        "id": "-Gt0Gmt40JrT",
        "outputId": "42d66ce0-be8f-4b47-a160-bb12f9bd0826"
      },
      "outputs": [],
      "source": [
        "! python train.py --data_path \"/content/drive/MyDrive/SCAN_DATA/SCAN/data\" --data_name coco_precomp --vocab_path \"/content/drive/MyDrive/SCAN_DATA/SCAN/vocab\" --logger_name runs/coco_scan/log/model_cosine --model_name runs/coco_scan/log/model_cosine --max_violation --bi_gru --max_violation --bi_gru --agg_func=Mean --cross_attn=t2i --lambda_softmax=9 --num_epochs=30 --lr_update=10 --learning_rate=.0005 --attention_method='cosine'\n"
      ]
    },
    {
      "cell_type": "code",
      "execution_count": null,
      "metadata": {
        "colab": {
          "base_uri": "https://localhost:8080/"
        },
        "id": "_z5ucwCkN-WZ",
        "outputId": "606f5838-dd3d-426a-d4c4-1c0b3e903f73"
      },
      "outputs": [],
      "source": [
        "from vocab import Vocabulary\n",
        "import evaluation\n",
        "evaluation.evalrank(\"/content/drive/MyDrive/SCAN_DATA/SCAN/runs/coco_scan/log/model_cosine/model_best.pth.tar\", data_path=\"/content/drive/MyDrive/SCAN_DATA/SCAN/data\", split=\"test\")"
      ]
    },
    {
      "cell_type": "markdown",
      "metadata": {
        "id": "XdldchfQ-_5U"
      },
      "source": [
        "## Scaled dot"
      ]
    },
    {
      "cell_type": "code",
      "execution_count": null,
      "metadata": {
        "colab": {
          "base_uri": "https://localhost:8080/"
        },
        "id": "nk_K8CfuIinK",
        "outputId": "7d27048b-0691-4fc5-dd4e-6ace31d6ef0e"
      },
      "outputs": [],
      "source": [
        "! python train.py --data_path \"/content/drive/MyDrive/SCAN_DATA/SCAN/data\" --data_name coco_precomp --vocab_path \"/content/drive/MyDrive/SCAN_DATA/SCAN/vocab\" --logger_name runs/coco_scan/log/model_scaled_dot --model_name runs/coco_scan/log/model_scaled_dot --max_violation --bi_gru --max_violation --bi_gru --agg_func=Mean --cross_attn=t2i --lambda_softmax=9 --num_epochs=30 --lr_update=10 --learning_rate=.0005 --attention_method='scaled_dot'\n"
      ]
    },
    {
      "cell_type": "code",
      "execution_count": null,
      "metadata": {
        "colab": {
          "base_uri": "https://localhost:8080/"
        },
        "id": "Dyks75puIinL",
        "outputId": "1d68b331-755f-4c66-96b5-34bddd36a79c"
      },
      "outputs": [],
      "source": [
        "from vocab import Vocabulary\n",
        "import evaluation\n",
        "evaluation.evalrank(\"/content/drive/MyDrive/SCAN_DATA/SCAN/runs/coco_scan/log/model_scaled_dot/model_best.pth.tar\", data_path=\"/content/drive/MyDrive/SCAN_DATA/SCAN/data\", split=\"test\")"
      ]
    },
    {
      "cell_type": "markdown",
      "metadata": {
        "id": "X5ussEj9_kqv"
      },
      "source": [
        "## Biased general kwq"
      ]
    },
    {
      "cell_type": "code",
      "execution_count": null,
      "metadata": {
        "colab": {
          "base_uri": "https://localhost:8080/"
        },
        "id": "zXQ8-R1K_kqv",
        "outputId": "6d413957-bb2d-47ea-9432-26f0121d3230"
      },
      "outputs": [],
      "source": [
        "! python train.py --data_path \"/content/drive/MyDrive/SCAN_DATA/SCAN/data\" --data_name coco_precomp --vocab_path \"/content/drive/MyDrive/SCAN_DATA/SCAN/vocab\" --logger_name runs/coco_scan/log/model_activated_general --model_name runs/coco_scan/log/model_activated_general --max_violation --bi_gru --max_violation --bi_gru --agg_func=Mean --cross_attn=t2i --lambda_softmax=9 --num_epochs=30 --lr_update=10 --learning_rate=.0005 --attention_method='biased_general_kwq'\n"
      ]
    },
    {
      "cell_type": "code",
      "execution_count": null,
      "metadata": {
        "colab": {
          "base_uri": "https://localhost:8080/"
        },
        "id": "-ZHuUWzy_kqw",
        "outputId": "a88e29c0-a2cc-414d-f107-ce926e99da2e"
      },
      "outputs": [],
      "source": [
        "from vocab import Vocabulary\n",
        "import evaluation\n",
        "evaluation.evalrank(\"/content/drive/MyDrive/SCAN_DATA/SCAN/runs/coco_scan/log/model_activated_general/model_best.pth.tar\", data_path=\"/content/drive/MyDrive/SCAN_DATA/SCAN/data\", split=\"test\")"
      ]
    },
    {
      "cell_type": "markdown",
      "metadata": {
        "id": "Pu5BQdzx_VN8"
      },
      "source": [
        "## Biased general qwk"
      ]
    },
    {
      "cell_type": "code",
      "execution_count": null,
      "metadata": {
        "colab": {
          "base_uri": "https://localhost:8080/"
        },
        "id": "0lz60-On_VN9",
        "outputId": "1e921770-f4fa-4b98-ddaa-414046bd4585"
      },
      "outputs": [],
      "source": [
        "! python train.py --data_path \"/content/drive/MyDrive/SCAN_DATA/SCAN/data\" --data_name coco_precomp --vocab_path \"/content/drive/MyDrive/SCAN_DATA/SCAN/vocab\" --logger_name runs/coco_scan/log/model_biased_general_QWK --model_name runs/coco_scan/log/model_biased_general_QWK --max_violation --bi_gru --max_violation --bi_gru --agg_func=Mean --cross_attn=t2i --lambda_softmax=9 --num_epochs=30 --lr_update=10 --learning_rate=.0005 --attention_method='biased_general_qwk'\n"
      ]
    },
    {
      "cell_type": "code",
      "execution_count": null,
      "metadata": {
        "colab": {
          "base_uri": "https://localhost:8080/"
        },
        "id": "8A7_eRYq_VN_",
        "outputId": "3bd2113e-0c68-4df2-f82e-ceae334679e2"
      },
      "outputs": [],
      "source": [
        "from vocab import Vocabulary\n",
        "import evaluation\n",
        "\n",
        "evaluation.evalrank(\"/content/drive/MyDrive/SCAN_DATA/SCAN/runs/coco_scan/log/model_biased_general_QWK/model_best.pth.tar\", data_path=\"/content/drive/MyDrive/SCAN_DATA/SCAN/data\", split=\"test\")"
      ]
    },
    {
      "cell_type": "markdown",
      "metadata": {
        "id": "0MstfWBPoXOX"
      },
      "source": [
        "## Activated general qwk (Relu)"
      ]
    },
    {
      "cell_type": "code",
      "execution_count": null,
      "metadata": {
        "colab": {
          "base_uri": "https://localhost:8080/"
        },
        "id": "p_Ibi9Q0oXOi",
        "outputId": "aca6310d-96f8-4370-b3fa-9e6fb616e918"
      },
      "outputs": [],
      "source": [
        "! python train.py --data_path \"/content/drive/MyDrive/SCAN_DATA/SCAN/data\" --data_name coco_precomp --vocab_path \"/content/drive/MyDrive/SCAN_DATA/SCAN/vocab\" --logger_name runs/coco_scan/log/model_act_general_relu_qwk --model_name runs/coco_scan/log/model_act_general_relu_qwk --max_violation --bi_gru --max_violation --bi_gru --agg_func=Mean --cross_attn=t2i --lambda_softmax=9 --num_epochs=30 --lr_update=10 --learning_rate=.0005 --attention_method='activated_general_relu'\n"
      ]
    },
    {
      "cell_type": "code",
      "execution_count": null,
      "metadata": {
        "colab": {
          "base_uri": "https://localhost:8080/"
        },
        "id": "Qvgwp3dboXOj",
        "outputId": "b547a0cc-8c7d-4680-bcfa-808c9f3861a4"
      },
      "outputs": [],
      "source": [
        "from vocab import Vocabulary\n",
        "import evaluation\n",
        "evaluation.evalrank(\"/content/drive/MyDrive/SCAN_DATA/SCAN/runs/coco_scan/log/model_act_general_relu_qwk/model_best.pth.tar\", data_path=\"/content/drive/MyDrive/SCAN_DATA/SCAN/data\", split=\"test\")"
      ]
    }
  ],
  "metadata": {
    "accelerator": "GPU",
    "colab": {
      "collapsed_sections": [],
      "machine_shape": "hm",
      "name": "run_MScoco.ipynb",
      "provenance": [],
      "toc_visible": true
    },
    "kernelspec": {
      "display_name": "Python 3",
      "name": "python3"
    }
  },
  "nbformat": 4,
  "nbformat_minor": 0
}
