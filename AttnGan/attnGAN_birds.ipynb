{
  "cells": [
    {
      "cell_type": "code",
      "execution_count": null,
      "metadata": {
        "colab": {
          "base_uri": "https://localhost:8080/"
        },
        "id": "Nqi59KgnyWfn",
        "outputId": "4a919ea3-6d2b-47c7-9aab-2010f92dcc12"
      },
      "outputs": [],
      "source": [
        "!nvidia-smi"
      ]
    },
    {
      "cell_type": "code",
      "execution_count": null,
      "metadata": {
        "colab": {
          "base_uri": "https://localhost:8080/"
        },
        "id": "KXCjThdy0_yQ",
        "outputId": "fa6c49be-90b5-438d-bb51-d19cbc6a78e3"
      },
      "outputs": [],
      "source": [
        "from google.colab import drive\n",
        "drive.mount('/content/drive',force_remount=True)"
      ]
    },
    {
      "cell_type": "code",
      "execution_count": null,
      "metadata": {
        "colab": {
          "base_uri": "https://localhost:8080/"
        },
        "id": "5BHprVq1KSC0",
        "outputId": "9fc21724-b1be-4213-edbf-fcaf5abef2aa"
      },
      "outputs": [],
      "source": [
        "cd /content/drive/My Drive/attnGAN/source_code/code"
      ]
    },
    {
      "cell_type": "markdown",
      "metadata": {
        "id": "T6isOJDIqb3z"
      },
      "source": [
        "# BIRDS --dot origin\n"
      ]
    },
    {
      "cell_type": "code",
      "execution_count": null,
      "metadata": {
        "colab": {
          "base_uri": "https://localhost:8080/"
        },
        "id": "Cg2B4oWWFAvP",
        "outputId": "b297edd5-8d2e-4eed-dbce-af657133cb7a"
      },
      "outputs": [],
      "source": [
        "!python2.7 main.py --cfg  cfg/bird_attn2.yml --gpu 0"
      ]
    },
    {
      "cell_type": "markdown",
      "metadata": {
        "id": "VUP-eulPDBaB"
      },
      "source": [
        "# general kwq"
      ]
    },
    {
      "cell_type": "code",
      "execution_count": null,
      "metadata": {
        "colab": {
          "base_uri": "https://localhost:8080/"
        },
        "id": "Ad6aCXzTDKJB",
        "outputId": "a9d61e43-1add-454b-a6b8-e6c433dc0663"
      },
      "outputs": [],
      "source": [
        "!python2.7 main.py --cfg  cfg/bird_attn2_kwq.yml --gpu 0"
      ]
    },
    {
      "cell_type": "markdown",
      "metadata": {
        "id": "fP4FqHkAS3hT"
      },
      "source": [
        "# general qwk"
      ]
    },
    {
      "cell_type": "code",
      "execution_count": null,
      "metadata": {
        "colab": {
          "base_uri": "https://localhost:8080/"
        },
        "id": "lqzL0LsbS48s",
        "outputId": "938515cd-b7b3-4190-8e5b-77263c788d44"
      },
      "outputs": [],
      "source": [
        "!python2.7 main.py --cfg  cfg/bird_attn2_qwk.yml --gpu 0"
      ]
    },
    {
      "cell_type": "markdown",
      "metadata": {
        "id": "sRgue6Qx6o6B"
      },
      "source": [
        "# biased general kwq"
      ]
    },
    {
      "cell_type": "code",
      "execution_count": null,
      "metadata": {
        "colab": {
          "base_uri": "https://localhost:8080/"
        },
        "id": "q45-ne8u7FgN",
        "outputId": "6aa35514-8778-45b8-dfe2-55fb6ba3b020"
      },
      "outputs": [],
      "source": [
        "!python2.7 main.py --cfg  cfg/bird_attn_biased_general_kwq.yml --gpu 0"
      ]
    },
    {
      "cell_type": "markdown",
      "metadata": {
        "id": "dERECzaHW1SE"
      },
      "source": [
        "# biased general qwk"
      ]
    },
    {
      "cell_type": "code",
      "execution_count": null,
      "metadata": {
        "colab": {
          "base_uri": "https://localhost:8080/"
        },
        "id": "VDyzqC3bXCTP",
        "outputId": "5e9e38e1-244d-4f2d-c586-954e304547d7"
      },
      "outputs": [],
      "source": [
        "!python2.7 main.py --cfg  cfg/bird_attn_biased_general_qwk.yml --gpu 0"
      ]
    },
    {
      "cell_type": "markdown",
      "metadata": {
        "id": "VKFZBPZhknhK"
      },
      "source": [
        "# act_general qwk(Relu)"
      ]
    },
    {
      "cell_type": "code",
      "execution_count": null,
      "metadata": {
        "colab": {
          "base_uri": "https://localhost:8080/"
        },
        "id": "947TOCkApe9j",
        "outputId": "e530ed03-0e31-46c2-deea-674e6dbf25d5"
      },
      "outputs": [],
      "source": [
        "# relu\n",
        "!python2.7 main.py --cfg  cfg/bird_attn_act_general_qwk.yml --gpu 0"
      ]
    },
    {
      "cell_type": "markdown",
      "metadata": {
        "id": "_HPtX62FrYUC"
      },
      "source": [
        "# scaled dot\n"
      ]
    },
    {
      "cell_type": "code",
      "execution_count": null,
      "metadata": {
        "colab": {
          "base_uri": "https://localhost:8080/"
        },
        "id": "Gs1rSi9krYUJ",
        "outputId": "b77c0991-305b-4132-d875-e0dec430b2a1"
      },
      "outputs": [],
      "source": [
        "!python2.7 main.py --cfg  cfg/bird_attn2_scale.yml --gpu 0"
      ]
    }
  ],
  "metadata": {
    "accelerator": "GPU",
    "colab": {
      "collapsed_sections": [
        "dERECzaHW1SE"
      ],
      "machine_shape": "hm",
      "name": "attnGAN_birds.ipynb",
      "provenance": [],
      "toc_visible": true
    },
    "kernelspec": {
      "display_name": "Python 3",
      "name": "python3"
    },
    "language_info": {
      "name": "python"
    }
  },
  "nbformat": 4,
  "nbformat_minor": 0
}
