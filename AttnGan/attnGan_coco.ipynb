{
  "cells": [
    {
      "cell_type": "code",
      "execution_count": null,
      "metadata": {
        "colab": {
          "base_uri": "https://localhost:8080/"
        },
        "id": "BVRvBBK3CXV7",
        "outputId": "4fcf394a-d672-406f-9dad-d7f8a382456a"
      },
      "outputs": [
        {
          "name": "stdout",
          "output_type": "stream",
          "text": [
            "Mounted at /content/drive\n"
          ]
        }
      ],
      "source": [
        "from google.colab import drive\n",
        "drive.mount('/content/drive')"
      ]
    },
    {
      "cell_type": "code",
      "execution_count": null,
      "metadata": {
        "colab": {
          "base_uri": "https://localhost:8080/"
        },
        "id": "SYOUDFcuF_f7",
        "outputId": "83c49d38-b9b5-4455-e659-f6447a322122"
      },
      "outputs": [],
      "source": [
        "!wget http://images.cocodataset.org/zips/train2014.zip"
      ]
    },
    {
      "cell_type": "code",
      "execution_count": null,
      "metadata": {
        "colab": {
          "base_uri": "https://localhost:8080/"
        },
        "id": "t98LHZAPfszX",
        "outputId": "bf715c67-4949-467c-a36f-fd234e890d3a"
      },
      "outputs": [
        {
          "name": "stdout",
          "output_type": "stream",
          "text": [
            "/content/drive/My Drive/attnGAN/code_coco\n"
          ]
        }
      ],
      "source": [
        "cd /content/drive/My Drive/attnGAN/source_code/code_coco"
      ]
    },
    {
      "cell_type": "markdown",
      "metadata": {
        "id": "wIryZ33qaslH"
      },
      "source": [
        "# Dot (original)"
      ]
    },
    {
      "cell_type": "code",
      "execution_count": null,
      "metadata": {
        "colab": {
          "background_save": true,
          "base_uri": "https://localhost:8080/"
        },
        "id": "IsCM7w9MQyYV",
        "outputId": "fbb3048d-d834-4e01-9df0-938af8484856"
      },
      "outputs": [],
      "source": [
        "!python2.7 main.py --cfg cfg/coco_attn2.yml --gpu 0"
      ]
    },
    {
      "cell_type": "markdown",
      "metadata": {
        "id": "dEbAIocY41AK"
      },
      "source": [
        "# Biased general qwk\n"
      ]
    },
    {
      "cell_type": "code",
      "execution_count": null,
      "metadata": {
        "colab": {
          "background_save": true,
          "base_uri": "https://localhost:8080/"
        },
        "id": "sryvMKRt43Cz",
        "outputId": "fe37efb3-30dc-4fd2-ff03-c4f565281b94"
      },
      "outputs": [],
      "source": [
        "!python2.7 main.py --cfg cfg/coco_attn2_biased_general_qwk.yml --gpu 0"
      ]
    },
    {
      "cell_type": "markdown",
      "metadata": {
        "id": "md3HD7hqHSXs"
      },
      "source": [
        "# General——kwq"
      ]
    },
    {
      "cell_type": "code",
      "execution_count": null,
      "metadata": {
        "colab": {
          "background_save": true,
          "base_uri": "https://localhost:8080/"
        },
        "id": "5LbEdnYRHSXt",
        "outputId": "b78cce4a-678a-40e3-8080-3aa56e0c8d8e"
      },
      "outputs": [],
      "source": [
        "!python2.7 main.py --cfg cfg/coco_attn2_general_kwq.yml --gpu 0"
      ]
    },
    {
      "cell_type": "markdown",
      "metadata": {
        "id": "Q2nkJ6BrUQEy"
      },
      "source": [
        "# General——qwk"
      ]
    },
    {
      "cell_type": "code",
      "execution_count": null,
      "metadata": {
        "colab": {
          "background_save": true,
          "base_uri": "https://localhost:8080/"
        },
        "id": "PdFfjEDk4X6Y",
        "outputId": "f1779716-dc1b-4f19-f0e9-657bdcf06f3d"
      },
      "outputs": [],
      "source": [
        "!python2.7 main.py --cfg cfg/coco_attn2_general_qwk.yml --gpu 0"
      ]
    },
    {
      "cell_type": "markdown",
      "metadata": {
        "id": "l9U6htMU3xfF"
      },
      "source": [
        "# Bias general kwq\n"
      ]
    },
    {
      "cell_type": "code",
      "execution_count": null,
      "metadata": {
        "colab": {
          "background_save": true,
          "base_uri": "https://localhost:8080/"
        },
        "id": "ZwanQgE034hO",
        "outputId": "c07681df-aae5-4f46-eb63-7ce1375960ae"
      },
      "outputs": [],
      "source": [
        "!python2.7 main.py --cfg cfg/coco_attn2_biased_general_kwq.yml --gpu 0"
      ]
    },
    {
      "cell_type": "markdown",
      "metadata": {
        "id": "e7Shdo6c_Uvb"
      },
      "source": [
        "# Activated general"
      ]
    },
    {
      "cell_type": "code",
      "execution_count": null,
      "metadata": {
        "colab": {
          "base_uri": "https://localhost:8080/"
        },
        "id": "_cqMPziO9EMz",
        "outputId": "a5732d60-3d5b-4dda-a654-7848b158df48"
      },
      "outputs": [],
      "source": [
        "!python2.7 main.py --cfg cfg/coco_attn2_act_general.yml --gpu 0"
      ]
    },
    {
      "cell_type": "markdown",
      "metadata": {
        "id": "RDdRcqRcZugO"
      },
      "source": [
        "# scaled dot"
      ]
    },
    {
      "cell_type": "code",
      "execution_count": null,
      "metadata": {
        "colab": {
          "base_uri": "https://localhost:8080/"
        },
        "id": "_jcyxbqFZugv",
        "outputId": "a5bb23aa-f1b5-4c26-b858-ea7de7ec51f9"
      },
      "outputs": [],
      "source": [
        "!python2.7 main.py --cfg cfg/coco_attn2_scaled.yml --gpu 0"
      ]
    }
  ],
  "metadata": {
    "accelerator": "GPU",
    "colab": {
      "collapsed_sections": [],
      "machine_shape": "hm",
      "name": "attnGan_coco.ipynb",
      "provenance": [],
      "toc_visible": true
    },
    "kernelspec": {
      "display_name": "Python 3",
      "name": "python3"
    },
    "language_info": {
      "name": "python"
    }
  },
  "nbformat": 4,
  "nbformat_minor": 0
}
