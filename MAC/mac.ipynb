{
  "cells": [
    {
      "cell_type": "markdown",
      "metadata": {
        "id": "yKjEIrzUoj-I"
      },
      "source": [
        "# preprocess"
      ]
    },
    {
      "cell_type": "code",
      "execution_count": null,
      "metadata": {
        "colab": {
          "base_uri": "https://localhost:8080/"
        },
        "id": "990CBah-zjjL",
        "outputId": "f25fbc4d-fb82-4d33-ad93-e614768960bf"
      },
      "outputs": [
        {
          "name": "stdout",
          "output_type": "stream",
          "text": [
            "Mounted at /content/drive\n"
          ]
        }
      ],
      "source": [
        "from google.colab import drive\n",
        "drive.mount('/content/drive')"
      ]
    },
    {
      "cell_type": "code",
      "execution_count": null,
      "metadata": {
        "colab": {
          "base_uri": "https://localhost:8080/"
        },
        "id": "36ir0G4UzCbs",
        "outputId": "fe459504-eb8b-4d70-b263-96a2cfda1e17"
      },
      "outputs": [],
      "source": [
        "!wget https://dl.fbaipublicfiles.com/clevr/CLEVR_v1.0.zip"
      ]
    },
    {
      "cell_type": "code",
      "execution_count": null,
      "metadata": {
        "colab": {
          "base_uri": "https://localhost:8080/"
        },
        "id": "gpvwmeKEzDpM",
        "outputId": "514d6c79-aab3-40db-e5a5-2a2568b5e1e9"
      },
      "outputs": [],
      "source": [
        "!unzip CLEVR_v1.0.zip"
      ]
    },
    {
      "cell_type": "code",
      "execution_count": null,
      "metadata": {
        "colab": {
          "base_uri": "https://localhost:8080/"
        },
        "id": "mgNygINQ7c92",
        "outputId": "2a29c3e8-61b0-4025-9c88-f8f94560ac1d"
      },
      "outputs": [],
      "source": [
        "!mv CLEVR_v1.0 CLEVR_v1"
      ]
    },
    {
      "cell_type": "code",
      "execution_count": null,
      "metadata": {
        "colab": {
          "base_uri": "https://localhost:8080/"
        },
        "id": "ZCVXk30v7f1J",
        "outputId": "124063e7-9e9e-4b2d-8439-8f84d7c5d582"
      },
      "outputs": [],
      "source": [
        "!mkdir CLEVR_v1/data"
      ]
    },
    {
      "cell_type": "code",
      "execution_count": null,
      "metadata": {
        "colab": {
          "base_uri": "https://localhost:8080/"
        },
        "id": "WtyA5INt10SJ",
        "outputId": "c61fdeac-bde5-441d-934f-0020290c951b"
      },
      "outputs": [],
      "source": [
        "!mv CLEVR_v1/questions/* CLEVR_v1/data/"
      ]
    },
    {
      "cell_type": "code",
      "execution_count": null,
      "metadata": {
        "colab": {
          "base_uri": "https://localhost:8080/"
        },
        "id": "wMHenMOCgLh7",
        "outputId": "91557737-db69-4fd3-fe13-6ca10c295393"
      },
      "outputs": [
        {
          "name": "stdout",
          "output_type": "stream",
          "text": [
            "/content/drive/MyDrive/MAC/mac-network\n"
          ]
        }
      ],
      "source": [
        "cd /content/drive/MyDrive/MAC/mac-network"
      ]
    },
    {
      "cell_type": "code",
      "execution_count": null,
      "metadata": {
        "colab": {
          "base_uri": "https://localhost:8080/"
        },
        "id": "F5kBTYxioGNz",
        "outputId": "9f480070-5cd1-4bb2-f0d7-fda9b2025361"
      },
      "outputs": [],
      "source": [
        "! pip install scipy==1.1.0"
      ]
    },
    {
      "cell_type": "markdown",
      "metadata": {
        "id": "j79XBrzX6UER"
      },
      "source": [
        "# Original"
      ]
    },
    {
      "cell_type": "code",
      "execution_count": null,
      "metadata": {
        "colab": {
          "base_uri": "https://localhost:8080/"
        },
        "id": "AZeK-ZOA5Tbs",
        "outputId": "827ba447-5751-426f-d7f2-66ac435188f3"
      },
      "outputs": [],
      "source": [
        "! python main.py --expName \"clevrExperiment\" --train --testedNum 10000 --epochs 8 --netLength 4 @configs/args.txt"
      ]
    },
    {
      "cell_type": "code",
      "execution_count": null,
      "metadata": {
        "colab": {
          "base_uri": "https://localhost:8080/"
        },
        "id": "3GpkpMDv0-lY",
        "outputId": "04a492fb-4424-4c73-cb7b-edf4ed7071f0"
      },
      "outputs": [],
      "source": [
        "! python main.py --expName \"clevrExperiment\" --train --testedNum 10000 --epochs 8 --netLength 4 @configs/args.txt --restoreEpoch 5"
      ]
    },
    {
      "cell_type": "markdown",
      "metadata": {
        "id": "IbRXGegrxbdf"
      },
      "source": [
        "# General qwk"
      ]
    },
    {
      "cell_type": "code",
      "execution_count": null,
      "metadata": {
        "colab": {
          "base_uri": "https://localhost:8080/"
        },
        "id": "vu9CL4LIBCFU",
        "outputId": "f7738527-e3f5-42cb-a739-fdd382e12dde"
      },
      "outputs": [],
      "source": [
        "# extendY=False\n",
        "! python main.py --expName \"clevrExperiment_general_qwk\" --train --testedNum 10000 --epochs 8 --read_general_qwk --control_general_qwk --netLength 4 @configs/args.txt  "
      ]
    },
    {
      "cell_type": "markdown",
      "metadata": {
        "id": "Myb1xOn8lhwl"
      },
      "source": [
        "# General kwq"
      ]
    },
    {
      "cell_type": "code",
      "execution_count": null,
      "metadata": {
        "colab": {
          "base_uri": "https://localhost:8080/"
        },
        "id": "PhHL8V2PlkVu",
        "outputId": "8b5f361f-360b-4c5b-9d05-945a664af6fb"
      },
      "outputs": [],
      "source": [
        "! python main.py --expName \"clevrExperiment\" --train --testedNum 10000 --epochs 8 --read_general_kwq --control_general_kwq --netLength 4 @configs/args.txt "
      ]
    },
    {
      "cell_type": "markdown",
      "metadata": {
        "id": "othuZquerH-X"
      },
      "source": [
        "# Biased general kwq"
      ]
    },
    {
      "cell_type": "code",
      "execution_count": null,
      "metadata": {
        "colab": {
          "base_uri": "https://localhost:8080/"
        },
        "id": "6rxSdsxP6aI-",
        "outputId": "27532dea-2e19-4dbb-8562-08a32c40a3fd"
      },
      "outputs": [],
      "source": [
        "! python main.py --expName \"clevrExperiment\" --train --testedNum 10000 --epochs 8 --read_biased_general_kwq --control_biased_general_kwq --netLength 4 @configs/args.txt "
      ]
    },
    {
      "cell_type": "markdown",
      "metadata": {
        "id": "3HuNun7avp3C"
      },
      "source": [
        "# Baised general qwk\n"
      ]
    },
    {
      "cell_type": "code",
      "execution_count": null,
      "metadata": {
        "colab": {
          "base_uri": "https://localhost:8080/"
        },
        "id": "bKEvPZ1_5zLL",
        "outputId": "8a0b97d4-27b9-4816-e4a0-918b4ac94d0f"
      },
      "outputs": [],
      "source": [
        "! python main.py --expName \"clevrExperiment_biased_general_qwk\" --train --testedNum 10000 --epochs 8 --read_biased_general_q --control_biased_general_q --netLength 4 @configs/args.txt "
      ]
    },
    {
      "cell_type": "markdown",
      "metadata": {
        "id": "8LYpNeCVIfjo"
      },
      "source": [
        "# Activated general kwq (Relu)\n"
      ]
    },
    {
      "cell_type": "code",
      "execution_count": null,
      "metadata": {
        "colab": {
          "base_uri": "https://localhost:8080/"
        },
        "id": "JUk1Z7ttIiSF",
        "outputId": "240de327-19e1-4199-e7ad-43e5ed64acc5"
      },
      "outputs": [],
      "source": [
        "! python main.py --expName \"clevrExperiment\" --train --testedNum 10000 --epochs 8 --read_act_general_relu_kwq --control_act_general_relu_kwq --netLength 4 @configs/args.txt "
      ]
    },
    {
      "cell_type": "markdown",
      "metadata": {
        "id": "C3f2qp1Rxkq0"
      },
      "source": [
        "# Activated general qwk (Relu)"
      ]
    },
    {
      "cell_type": "code",
      "execution_count": null,
      "metadata": {
        "colab": {
          "base_uri": "https://localhost:8080/"
        },
        "id": "uz-AAS36xpL5",
        "outputId": "6d03e772-e0cb-4e1b-fe72-09ee4c4e8d7b"
      },
      "outputs": [],
      "source": [
        "! python main.py --expName \"clevrExperiment_act_general_relu_qwk\" --train --testedNum 10000 --epochs 8 --read_act_general_relu_qwk --control_act_general_relu_qwk --netLength 4 @configs/args.txt "
      ]
    },
    {
      "cell_type": "markdown",
      "metadata": {
        "id": "CvR7iXiawJiB"
      },
      "source": [
        "# scaled"
      ]
    },
    {
      "cell_type": "code",
      "execution_count": null,
      "metadata": {
        "colab": {
          "base_uri": "https://localhost:8080/"
        },
        "id": "rv8LdB9bwKmg",
        "outputId": "3f27436b-2c0f-457c-fe57-65433534411d"
      },
      "outputs": [],
      "source": [
        "! python main.py --expName \"clevrExperiment\" --train --testedNum 10000 --epochs 8 --read_scaled --control_scaled --netLength 4 @configs/args.txt "
      ]
    }
  ],
  "metadata": {
    "accelerator": "GPU",
    "colab": {
      "collapsed_sections": [],
      "machine_shape": "hm",
      "name": "mac.ipynb",
      "provenance": [],
      "toc_visible": true
    },
    "kernelspec": {
      "display_name": "Python 3",
      "name": "python3"
    },
    "language_info": {
      "name": "python"
    }
  },
  "nbformat": 4,
  "nbformat_minor": 0
}
